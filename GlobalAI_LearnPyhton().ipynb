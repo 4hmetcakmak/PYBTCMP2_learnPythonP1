{
  "nbformat": 4,
  "nbformat_minor": 0,
  "metadata": {
    "colab": {
      "name": "GlobalAI_LearnPyhton().ipynb",
      "provenance": []
    },
    "kernelspec": {
      "name": "python3",
      "display_name": "Python 3"
    },
    "language_info": {
      "name": "python"
    }
  },
  "cells": [
    {
      "cell_type": "code",
      "execution_count": 40,
      "metadata": {
        "id": "gxRl5zzfRIIi"
      },
      "outputs": [],
      "source": [
        "import pandas as pd \n",
        "def GradSystem(): #for student information\n",
        "  FullName=input(\"FullName: \")\n",
        "  ID=input(\"Student ID: \")\n",
        "  Lesson=input(\"Lesson: \")\n",
        "  Result=int(input(\"Result: \"))\n",
        "  def PassorFail(Result): #for pass or fail \n",
        "    if Result >=50:\n",
        "      return(\"Passed\")\n",
        "    else:\n",
        "      return (\"Failed\")\n",
        "  Summary=PassorFail(Result)\n",
        "  def LetterGrade(Result):\n",
        "    if Result>= 85:\n",
        "      return(\"A\")\n",
        "    elif Result>=70:\n",
        "      return(\"B\")\n",
        "    elif Result>=60:\n",
        "      return(\"C\")\n",
        "    elif Result>=50:\n",
        "      return(\"D\")\n",
        "    else:\n",
        "      return(\"F\")\n",
        "  Grade=LetterGrade(Result)\n",
        "  return [FullName,ID,Lesson,Result,Summary,Grade]"
      ]
    },
    {
      "cell_type": "code",
      "source": [
        "Person1=GradSystem()\n"
      ],
      "metadata": {
        "colab": {
          "base_uri": "https://localhost:8080/"
        },
        "id": "chkrIRcpZpbf",
        "outputId": "871224b3-62b9-43ce-e3dc-be873e33eabb"
      },
      "execution_count": 41,
      "outputs": [
        {
          "name": "stdout",
          "output_type": "stream",
          "text": [
            "FullName: Ahmet Çakmak\n",
            "Student ID: 021830010\n",
            "Lesson: Math\n",
            "Result: 76\n"
          ]
        }
      ]
    },
    {
      "cell_type": "code",
      "source": [
        "print(Person1)"
      ],
      "metadata": {
        "colab": {
          "base_uri": "https://localhost:8080/"
        },
        "id": "TaVSAeY3dvJi",
        "outputId": "78b0f030-f34d-49de-cb6f-6ac8279fbf9c"
      },
      "execution_count": 42,
      "outputs": [
        {
          "output_type": "stream",
          "name": "stdout",
          "text": [
            "['Ahmet Çakmak', '021830010', 'Math', 76, 'Passed', 'B']\n"
          ]
        }
      ]
    },
    {
      "cell_type": "code",
      "source": [
        "data={\"Full Name\":Person1[0],\"ID\":Person1[1],\"Lesson\":Person1[2],\"Result\":Person1[3],\"Pass or Fail\":Person1[4],\"Grade\":Person1[5]}\n",
        "data"
      ],
      "metadata": {
        "colab": {
          "base_uri": "https://localhost:8080/"
        },
        "id": "3_SZAOVwfSSa",
        "outputId": "e135bd23-1c10-431a-d843-d8d3ebf7d557"
      },
      "execution_count": 43,
      "outputs": [
        {
          "output_type": "execute_result",
          "data": {
            "text/plain": [
              "{'Full Name': 'Ahmet Çakmak',\n",
              " 'Grade': 'B',\n",
              " 'ID': '021830010',\n",
              " 'Lesson': 'Math',\n",
              " 'Pass or Fail': 'Passed',\n",
              " 'Result': 76}"
            ]
          },
          "metadata": {},
          "execution_count": 43
        }
      ]
    },
    {
      "cell_type": "code",
      "source": [
        "Student=pd.DataFrame(data=data, index=[0])\n",
        "print(Student)\n",
        "#U can create an excel file on your desktop then u have copy its path and then u can do this  \n",
        "Student.to_excel(r\"C:\\Users\\ASUS\\OneDrive\\Masaüstü\\Yeni Microsoft Excel Çalışma Sayfası.xlsx\", index = False, header=True)"
      ],
      "metadata": {
        "colab": {
          "base_uri": "https://localhost:8080/"
        },
        "id": "-gHykeFedWZg",
        "outputId": "5f3531f0-a815-4f72-d869-e1b23da26ff8"
      },
      "execution_count": 48,
      "outputs": [
        {
          "output_type": "stream",
          "name": "stdout",
          "text": [
            "      Full Name         ID Lesson  Result Pass or Fail Grade\n",
            "0  Ahmet Çakmak  021830010   Math      76       Passed     B\n"
          ]
        }
      ]
    }
  ]
}